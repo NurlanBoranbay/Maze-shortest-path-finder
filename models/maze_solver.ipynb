{
 "cells": [
  {
   "cell_type": "markdown",
   "id": "jewish-consciousness",
   "metadata": {},
   "source": [
    "# <b>10 x 10 MAZE SOLVER"
   ]
  },
  {
   "cell_type": "markdown",
   "id": "younger-gamma",
   "metadata": {},
   "source": [
    "## Making all necessary imports"
   ]
  },
  {
   "cell_type": "code",
   "id": "registered-transcript",
   "metadata": {
    "ExecuteTime": {
     "end_time": "2025-01-30T17:29:03.101503Z",
     "start_time": "2025-01-30T17:29:03.088662Z"
    }
   },
   "source": [
    "import cv2\n",
    "import numpy as np\n",
    "import matplotlib.pyplot as plt"
   ],
   "outputs": [],
   "execution_count": 6
  },
  {
   "cell_type": "markdown",
   "id": "still-production",
   "metadata": {},
   "source": [
    "## Reading the image"
   ]
  },
  {
   "cell_type": "code",
   "id": "appropriate-gospel",
   "metadata": {
    "ExecuteTime": {
     "end_time": "2025-01-30T17:29:03.179049Z",
     "start_time": "2025-01-30T17:29:03.120164Z"
    }
   },
   "source": [
    "maze_img = cv2.imread('../Dataset/maze2.png')\n",
    "maze_img = cv2.resize(maze_img, (160, 160))\n",
    "maze_img.shape"
   ],
   "outputs": [
    {
     "ename": "error",
     "evalue": "OpenCV(4.11.0) D:\\a\\opencv-python\\opencv-python\\opencv\\modules\\imgproc\\src\\resize.cpp:4208: error: (-215:Assertion failed) !ssize.empty() in function 'cv::resize'\n",
     "output_type": "error",
     "traceback": [
      "\u001B[1;31m---------------------------------------------------------------------------\u001B[0m",
      "\u001B[1;31merror\u001B[0m                                     Traceback (most recent call last)",
      "Cell \u001B[1;32mIn[7], line 2\u001B[0m\n\u001B[0;32m      1\u001B[0m maze_img \u001B[38;5;241m=\u001B[39m cv2\u001B[38;5;241m.\u001B[39mimread(\u001B[38;5;124m'\u001B[39m\u001B[38;5;124m../Dataset/maze2.png\u001B[39m\u001B[38;5;124m'\u001B[39m)\n\u001B[1;32m----> 2\u001B[0m maze_img \u001B[38;5;241m=\u001B[39m cv2\u001B[38;5;241m.\u001B[39mresize(maze_img, (\u001B[38;5;241m160\u001B[39m, \u001B[38;5;241m160\u001B[39m))\n\u001B[0;32m      3\u001B[0m maze_img\u001B[38;5;241m.\u001B[39mshape\n",
      "\u001B[1;31merror\u001B[0m: OpenCV(4.11.0) D:\\a\\opencv-python\\opencv-python\\opencv\\modules\\imgproc\\src\\resize.cpp:4208: error: (-215:Assertion failed) !ssize.empty() in function 'cv::resize'\n"
     ]
    }
   ],
   "execution_count": 7
  },
  {
   "cell_type": "code",
   "execution_count": 3,
   "id": "italian-associate",
   "metadata": {},
   "outputs": [
    {
     "data": {
      "text/plain": [
       "<matplotlib.image.AxesImage at 0x7f7d52dde2e8>"
      ]
     },
     "execution_count": 3,
     "metadata": {},
     "output_type": "execute_result"
    },
    {
     "data": {
      "image/png": "[encoded data removed]",
      "text/plain": [
       "<Figure size 432x288 with 1 Axes>"
      ]
     },
     "metadata": {
      "needs_background": "light"
     },
     "output_type": "display_data"
    }
   ],
   "source": [
    "plt.imshow(maze_img)"
   ]
  },
  {
   "cell_type": "markdown",
   "id": "serial-optimization",
   "metadata": {},
   "source": [
    "## Taking inputs for starting and ending point"
   ]
  },
  {
   "cell_type": "code",
   "execution_count": 4,
   "id": "focused-raise",
   "metadata": {},
   "outputs": [
    {
     "name": "stdin",
     "output_type": "stream",
     "text": [
      "Enter start co-ordinates (ranging (0,0) - (9,9)):  0 0\n",
      "Enter end co-ordinates (ranging (0,0) - (9,9)):  9 9\n"
     ]
    },
    {
     "name": "stdout",
     "output_type": "stream",
     "text": [
      "The start and end points respectively are:  (0, 0) (9, 9)\n"
     ]
    }
   ],
   "source": [
    "start_coord = tuple(map(int, input('Enter start co-ordinates (ranging (0,0) - (9,9)): ').split(' ')))\n",
    "end_coord = tuple(map(int, input('Enter end co-ordinates (ranging (0,0) - (9,9)): ').split(' ')))\n",
    "print('The start and end points respectively are: ', start_coord, end_coord)"
   ]
  },
  {
   "cell_type": "markdown",
   "id": "painted-sender",
   "metadata": {},
   "source": [
    "## Processing maze image for further operations"
   ]
  },
  {
   "cell_type": "code",
   "execution_count": 5,
   "id": "least-healing",
   "metadata": {},
   "outputs": [],
   "source": [
    "maze_copy = maze_img.copy()\n",
    "maze_copy = cv2.cvtColor(maze_copy, cv2.COLOR_BGR2GRAY)"
   ]
  },
  {
   "cell_type": "code",
   "execution_count": 6,
   "id": "african-butterfly",
   "metadata": {},
   "outputs": [],
   "source": [
    "kernel_1 = np.ones((7,7),np.uint8)    \n",
    "erosion = cv2.erode(maze_copy, kernel_1, iterations = 1)  \n",
    "kernel_2 = np.ones((3,3),np.uint8)\n",
    "dilation = cv2.dilate(erosion, kernel_2, iterations = 1)\n",
    "\t\n",
    "ret, thresh = cv2.threshold(dilation, 120, 255, cv2.THRESH_BINARY)"
   ]
  },
  {
   "cell_type": "markdown",
   "id": "aware-symphony",
   "metadata": {},
   "source": [
    "## Function to determine the number of walls each cell is surrounded by\n",
    "### Here each cell is represented in terms of powers of 2 times number of walls(n)\n",
    "\n",
    "Left wall = nx2<sup>0</sup></br>\n",
    "Upper wall = nx2<sup>1</sup></br>\n",
    "Right wall = nx2<sup>2</sup></br>\n",
    "Lower wall = nx2<sup>3</sup></br>"
   ]
  },
  {
   "cell_type": "code",
   "execution_count": 7,
   "id": "advanced-murray",
   "metadata": {},
   "outputs": [],
   "source": [
    "def cell_work(cell):\n",
    "    size = cell.shape\n",
    "\n",
    "    # checking the presence of black pixel on the midpoint of each border\n",
    "    west = bool(cell[int(size[0]/2),0] < 150) * 1\n",
    "    north = bool(cell[0,int(size[1]/2)] < 150) * 2 \n",
    "    east = bool(cell[int(size[0]/2), int(size[1]-1)] < 150) * 4\n",
    "    south = bool(cell[int(size[0]-1) ,int(size[1]/2)] < 150) * 8\n",
    "    \n",
    "    # adding up all the weights to determine the cell value\n",
    "    value = west+north+east+south     \n",
    "    return value"
   ]
  },
  {
   "cell_type": "markdown",
   "id": "bronze-manor",
   "metadata": {},
   "source": [
    "## Obtaining cell values for every cell in maze array"
   ]
  },
  {
   "cell_type": "code",
   "execution_count": 8,
   "id": "relative-matrix",
   "metadata": {},
   "outputs": [],
   "source": [
    "maze_array = []\n",
    "\n",
    "for i in range(10):\n",
    "    rows_val = []\n",
    "    for j in range(10):\n",
    "        cell = thresh[(16*i):(16*(i+1)), (16*j):(16*(j+1))]     # focusing on every cell by cropping it out of main image \n",
    "        v = cell_work(cell)         # storing the cell value into v \n",
    "        rows_val.append(v)          # appending the v into the rows_val\n",
    "    maze_array.append(rows_val)\n",
    "    \n",
    "# print(maze_array)"
   ]
  },
  {
   "cell_type": "markdown",
   "id": "heated-photographer",
   "metadata": {},
   "source": [
    "## Function to find shortest path in maze"
   ]
  },
  {
   "cell_type": "code",
   "execution_count": 9,
   "id": "excess-scenario",
   "metadata": {},
   "outputs": [],
   "source": [
    "def find_path(maze_array, start_coord, end_coord):    \n",
    "    # If path exist or not\n",
    "    flag = 0  \n",
    "\n",
    "    # For storing the path in the form of list\n",
    "    path_array_list = []\n",
    "\n",
    "    # tracker for the path_array_list\n",
    "    p = 0\n",
    "\n",
    "    temp_maze_array = np.copy(maze_array)\n",
    "\n",
    "    # Appending the first coordinate to the list\n",
    "    path_array_list.append(list(start_coord))\n",
    "\n",
    "    while True:\n",
    "        h,w = path_array_list[p][0], path_array_list[p][1]\n",
    "\n",
    "        # If we reach the final point then we need to break the loop\n",
    "        if path_array_list[-1]==list(end_coord):\n",
    "            break\n",
    "\n",
    "        # Open Downwards\n",
    "        if 15 - temp_maze_array[h][w] > 7:\n",
    "            temp_maze_array[h][w] += 8\n",
    "            h=h+1\n",
    "            path_array_list.append([h,w])\n",
    "            temp_maze_array[h][w] += 2\n",
    "            p=p+1\n",
    "\n",
    "        # Open Rightwards\n",
    "        elif 15 - temp_maze_array[h][w] > 3:\n",
    "            temp_maze_array[h][w] += 4\n",
    "            w=w+1\n",
    "            path_array_list.append([h,w])\n",
    "            temp_maze_array[h][w] += 1\n",
    "            p=p+1\n",
    "\n",
    "        # Open Upwards\n",
    "        elif 15 - temp_maze_array[h][w] > 1:\n",
    "            temp_maze_array[h][w] += 2\n",
    "            h=h-1\n",
    "            path_array_list.append([h,w])\n",
    "            temp_maze_array[h][w] += 8\n",
    "            p=p+1\n",
    "\n",
    "        # Open Leftwards\n",
    "        elif 15 - temp_maze_array[h][w] > 0:\n",
    "            temp_maze_array[h][w] += 1\n",
    "            w=w-1\n",
    "            path_array_list.append([h,w])\n",
    "            temp_maze_array[h][w] += 4\n",
    "            p=p+1\n",
    "\n",
    "        else:\n",
    "            path_array_list.pop()\n",
    "            if p != 0:\n",
    "                p -=1\n",
    "            else:\n",
    "                # we reach the first element by backtracking\n",
    "                path_array_list = None\n",
    "                flag = 1\n",
    "                break\n",
    "\n",
    "    if flag == 0:\n",
    "        path = []\n",
    "        for i in path_array_list:\n",
    "            path.append(tuple(i))\n",
    "\n",
    "\n",
    "    return path"
   ]
  },
  {
   "cell_type": "markdown",
   "id": "fleet-simple",
   "metadata": {},
   "source": [
    "## Obtaining maze solution path"
   ]
  },
  {
   "cell_type": "code",
   "execution_count": 10,
   "id": "regional-greek",
   "metadata": {},
   "outputs": [
    {
     "name": "stdout",
     "output_type": "stream",
     "text": [
      "Maze path is as follows:  [(0, 0), (0, 1), (1, 1), (1, 2), (2, 2), (3, 2), (4, 2), (5, 2), (5, 3), (6, 3), (6, 4), (6, 5), (6, 6), (6, 7), (7, 7), (8, 7), (8, 8), (8, 9), (9, 9)]\n"
     ]
    }
   ],
   "source": [
    "final_path = find_path(maze_array, start_coord, end_coord)\n",
    "print('Maze path is as follows: ', final_path)"
   ]
  },
  {
   "cell_type": "markdown",
   "id": "international-argument",
   "metadata": {},
   "source": [
    "## Function to draw the path on the maze image"
   ]
  },
  {
   "cell_type": "code",
   "execution_count": 11,
   "id": "driven-thing",
   "metadata": {},
   "outputs": [],
   "source": [
    "def drawPath(img, start_c, end_c, path):\n",
    "    init_w = -8\n",
    "    init_h = -8\n",
    "    \n",
    "    for i in range(len(path)-1):\n",
    "        pt1 = path[i]\n",
    "        pt2 = path[i+1]\n",
    "        \n",
    "        start = (((pt1[1]+1)*(16))+init_w, ((pt1[0]+1)*(16))+init_h)\n",
    "        end = (((pt2[1]+1)*(16))+init_w, ((pt2[0]+1)*(16))+init_h)\n",
    "        \n",
    "        cv2.line(img, start, end, (255, 0, 0), 4)\n",
    "    \n",
    "    \n",
    "    return img"
   ]
  },
  {
   "cell_type": "markdown",
   "id": "square-rates",
   "metadata": {},
   "source": [
    "## Displaying the solved maze image"
   ]
  },
  {
   "cell_type": "code",
   "execution_count": 15,
   "id": "senior-commercial",
   "metadata": {},
   "outputs": [],
   "source": [
    "solved = drawPath(maze_img, start_coord, end_coord, final_path)"
   ]
  },
  {
   "cell_type": "code",
   "id": "dirty-abortion",
   "metadata": {
    "ExecuteTime": {
     "end_time": "2025-01-30T17:29:03.183057Z",
     "start_time": "2025-01-30T17:15:43.325014Z"
    }
   },
   "source": [
    "print('The solved maze is as follows: ')\n",
    "plt.imshow(solved)"
   ],
   "outputs": [
    {
     "name": "stdout",
     "output_type": "stream",
     "text": [
      "The solved maze is as follows: \n"
     ]
    },
    {
     "ename": "NameError",
     "evalue": "name 'plt' is not defined",
     "output_type": "error",
     "traceback": [
      "\u001B[1;31m---------------------------------------------------------------------------\u001B[0m",
      "\u001B[1;31mNameError\u001B[0m                                 Traceback (most recent call last)",
      "Cell \u001B[1;32mIn[2], line 2\u001B[0m\n\u001B[0;32m      1\u001B[0m \u001B[38;5;28mprint\u001B[39m(\u001B[38;5;124m'\u001B[39m\u001B[38;5;124mThe solved maze is as follows: \u001B[39m\u001B[38;5;124m'\u001B[39m)\n\u001B[1;32m----> 2\u001B[0m plt\u001B[38;5;241m.\u001B[39mimshow(solved)\n",
      "\u001B[1;31mNameError\u001B[0m: name 'plt' is not defined"
     ]
    }
   ],
   "execution_count": 2
  },
  {
   "metadata": {},
   "cell_type": "code",
   "outputs": [],
   "execution_count": null,
   "source": "",
   "id": "9c4a895fa45b837d"
  }
 ],
 "metadata": {
  "kernelspec": {
   "display_name": "Python 3",
   "language": "python",
   "name": "python3"
  },
  "language_info": {
   "codemirror_mode": {
    "name": "ipython",
    "version": 3
   },
   "file_extension": ".py",
   "mimetype": "text/x-python",
   "name": "python",
   "nbconvert_exporter": "python",
   "pygments_lexer": "ipython3",
   "version": "3.6.6"
  }
 },
 "nbformat": 4,
 "nbformat_minor": 5
}
